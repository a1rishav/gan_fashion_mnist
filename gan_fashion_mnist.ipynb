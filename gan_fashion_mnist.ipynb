{
  "nbformat": 4,
  "nbformat_minor": 0,
  "metadata": {
    "colab": {
      "name": "gan_fashion_mnist.ipynb",
      "provenance": [],
      "collapsed_sections": [],
      "include_colab_link": true
    },
    "kernelspec": {
      "name": "python3",
      "display_name": "Python 3"
    },
    "accelerator": "GPU"
  },
  "cells": [
    {
      "cell_type": "markdown",
      "metadata": {
        "id": "view-in-github",
        "colab_type": "text"
      },
      "source": [
        "<a href=\"https://colab.research.google.com/github/a1rishav/gan_fashion_mnist/blob/master/gan_fashion_mnist.ipynb\" target=\"_parent\"><img src=\"https://colab.research.google.com/assets/colab-badge.svg\" alt=\"Open In Colab\"/></a>"
      ]
    },
    {
      "cell_type": "markdown",
      "metadata": {
        "id": "zqfImF5Q1_3e",
        "colab_type": "text"
      },
      "source": [
        "## **Plan**"
      ]
    },
    {
      "cell_type": "markdown",
      "metadata": {
        "id": "Fw1_9yyX2RcK",
        "colab_type": "text"
      },
      "source": [
        "## Load libraries"
      ]
    },
    {
      "cell_type": "code",
      "metadata": {
        "id": "AhX45bbF2XUm",
        "colab_type": "code",
        "colab": {}
      },
      "source": [
        "from __future__ import absolute_import, division, print_function, unicode_literals\n",
        "import glob\n",
        "import imageio\n",
        "import matplotlib.pyplot as plt\n",
        "import numpy as np\n",
        "import os\n",
        "import PIL\n",
        "from tensorflow.keras import layers\n",
        "import time\n",
        "from keras.datasets import fashion_mnist\n",
        "import tensorflow as tf\n",
        "from IPython import display\n",
        "try:\n",
        "  # %tensorflow_version only exists in Colab.\n",
        "  %tensorflow_version 2.x\n",
        "except Exception:\n",
        "  pass\n",
        "tf.__version__\n",
        "import os\n"
      ],
      "execution_count": 0,
      "outputs": []
    },
    {
      "cell_type": "markdown",
      "metadata": {
        "id": "zE-U88as2jL1",
        "colab_type": "text"
      },
      "source": [
        "## Load and prepare dataset"
      ]
    },
    {
      "cell_type": "code",
      "metadata": {
        "id": "pKTW-kjl2ocM",
        "colab_type": "code",
        "colab": {}
      },
      "source": [
        "(train_images, train_labels), (_, _)  = fashion_mnist.load_data()\n",
        "train_images = train_images.reshape(train_images.shape[0], 28, 28, 1).astype('float32')\n",
        "train_images = (train_images - 127.5) / 127.5 # Normalize the images to [-1, 1]\n",
        "BUFFER_SIZE = 60000\n",
        "BATCH_SIZE = 256\n",
        "train_dataset = tf.data.Dataset.from_tensor_slices(train_images).shuffle(BUFFER_SIZE).batch(BATCH_SIZE)"
      ],
      "execution_count": 0,
      "outputs": []
    },
    {
      "cell_type": "markdown",
      "metadata": {
        "id": "CHZRytbDK9sb",
        "colab_type": "text"
      },
      "source": [
        "## Configure google drive"
      ]
    },
    {
      "cell_type": "code",
      "metadata": {
        "id": "NNVru0Z4Mm8E",
        "colab_type": "code",
        "colab": {
          "base_uri": "https://localhost:8080/",
          "height": 35
        },
        "outputId": "e9360245-8cb7-4429-864e-043c24dc0e59"
      },
      "source": [
        "drive.mount(\"/content/drive\")"
      ],
      "execution_count": 113,
      "outputs": [
        {
          "output_type": "stream",
          "text": [
            "Drive already mounted at /content/drive; to attempt to forcibly remount, call drive.mount(\"/content/drive\", force_remount=True).\n"
          ],
          "name": "stdout"
        }
      ]
    },
    {
      "cell_type": "code",
      "metadata": {
        "id": "QHOJ1fSuLBr4",
        "colab_type": "code",
        "colab": {
          "base_uri": "https://localhost:8080/",
          "height": 35
        },
        "outputId": "24d60021-5376-47d8-b117-4b05ca17bd71"
      },
      "source": [
        "!ls \"/content/drive/My Drive/ml/gan_fashion_mnist\"\n",
        "base_dir = \"/content/drive/My Drive/ml/gan_fashion_mnist\"\n",
        "checkpoint_dir = os.path.join(base_dir, \"models\")\n",
        "data_dir = os.path.join(base_dir, \"data\")"
      ],
      "execution_count": 85,
      "outputs": [
        {
          "output_type": "stream",
          "text": [
            "data  gan_fashion_mnist.ipynb  models\n"
          ],
          "name": "stdout"
        }
      ]
    },
    {
      "cell_type": "markdown",
      "metadata": {
        "id": "JzFfoeqq5exI",
        "colab_type": "text"
      },
      "source": [
        "## A look at the data and shape"
      ]
    },
    {
      "cell_type": "code",
      "metadata": {
        "id": "GKWsJsC157m9",
        "colab_type": "code",
        "outputId": "eb63ff86-920b-4c6c-8d42-f5e5f68bbe80",
        "colab": {
          "base_uri": "https://localhost:8080/",
          "height": 284
        }
      },
      "source": [
        "plt.imshow(x_train[0], cmap='Greys')"
      ],
      "execution_count": 86,
      "outputs": [
        {
          "output_type": "execute_result",
          "data": {
            "text/plain": [
              "<matplotlib.image.AxesImage at 0x7efdc9c7bc50>"
            ]
          },
          "metadata": {
            "tags": []
          },
          "execution_count": 86
        },
        {
          "output_type": "display_data",
          "data": {
            "image/png": "[encoded data removed]",
            "text/plain": [
              "<Figure size 432x288 with 1 Axes>"
            ]
          },
          "metadata": {
            "tags": []
          }
        }
      ]
    },
    {
      "cell_type": "code",
      "metadata": {
        "id": "qRR8Ag0K3KG3",
        "colab_type": "code",
        "outputId": "c117f3f3-cf21-4949-b77b-6f03dd6d60ab",
        "colab": {
          "base_uri": "https://localhost:8080/",
          "height": 284
        }
      },
      "source": [
        "plt.imshow(x_train[5], cmap='Greys')"
      ],
      "execution_count": 87,
      "outputs": [
        {
          "output_type": "execute_result",
          "data": {
            "text/plain": [
              "<matplotlib.image.AxesImage at 0x7efdc8a7deb8>"
            ]
          },
          "metadata": {
            "tags": []
          },
          "execution_count": 87
        },
        {
          "output_type": "display_data",
          "data": {
            "image/png": "[encoded data removed]",
            "text/plain": [
              "<Figure size 432x288 with 1 Axes>"
            ]
          },
          "metadata": {
            "tags": []
          }
        }
      ]
    },
    {
      "cell_type": "code",
      "metadata": {
        "id": "IY6Y5yX63td_",
        "colab_type": "code",
        "outputId": "1fbd34b8-3b10-4f32-fa12-421bc8753f0e",
        "colab": {
          "base_uri": "https://localhost:8080/",
          "height": 35
        }
      },
      "source": [
        "x_train.shape"
      ],
      "execution_count": 88,
      "outputs": [
        {
          "output_type": "execute_result",
          "data": {
            "text/plain": [
              "(60000, 28, 28)"
            ]
          },
          "metadata": {
            "tags": []
          },
          "execution_count": 88
        }
      ]
    },
    {
      "cell_type": "markdown",
      "metadata": {
        "id": "lUIZY4QF6Ito",
        "colab_type": "text"
      },
      "source": [
        "## Reshape"
      ]
    },
    {
      "cell_type": "code",
      "metadata": {
        "id": "M5we1fVF46at",
        "colab_type": "code",
        "colab": {}
      },
      "source": [
        "x_train = (x_train - 127.5) / 127.5"
      ],
      "execution_count": 0,
      "outputs": []
    },
    {
      "cell_type": "markdown",
      "metadata": {
        "id": "aJPtB-8Z042w",
        "colab_type": "text"
      },
      "source": [
        "## Create Generator and Discriminator model\n"
      ]
    },
    {
      "cell_type": "code",
      "metadata": {
        "id": "FcRzzhSY0_O9",
        "colab_type": "code",
        "colab": {}
      },
      "source": [
        "def make_generator_model():\n",
        "    model = tf.keras.Sequential()\n",
        "    model.add(layers.Dense(7*7*256, use_bias=False, input_shape=(100,)))\n",
        "    model.add(layers.BatchNormalization())\n",
        "    model.add(layers.LeakyReLU())\n",
        "\n",
        "    model.add(layers.Reshape((7, 7, 256)))\n",
        "    assert model.output_shape == (None, 7, 7, 256) # Note: None is the batch size\n",
        "\n",
        "    model.add(layers.Conv2DTranspose(128, (5, 5), strides=(1, 1), padding='same', use_bias=False))\n",
        "    assert model.output_shape == (None, 7, 7, 128)\n",
        "    model.add(layers.BatchNormalization())\n",
        "    model.add(layers.LeakyReLU())\n",
        "\n",
        "    model.add(layers.Conv2DTranspose(64, (5, 5), strides=(2, 2), padding='same', use_bias=False))\n",
        "    assert model.output_shape == (None, 14, 14, 64)\n",
        "    model.add(layers.BatchNormalization())\n",
        "    model.add(layers.LeakyReLU())\n",
        "\n",
        "    model.add(layers.Conv2DTranspose(1, (5, 5), strides=(2, 2), padding='same', use_bias=False, activation='tanh'))\n",
        "    assert model.output_shape == (None, 28, 28, 1)\n",
        "\n",
        "    return model\n",
        "  \n",
        "  "
      ],
      "execution_count": 0,
      "outputs": []
    },
    {
      "cell_type": "code",
      "metadata": {
        "id": "Te-bZhK81q7d",
        "colab_type": "code",
        "outputId": "f80a4718-469b-4717-f2e6-11acb251a2e0",
        "colab": {
          "base_uri": "https://localhost:8080/",
          "height": 284
        }
      },
      "source": [
        "generator = make_generator_model()\n",
        "\n",
        "noise = tf.random.normal([1, 100])\n",
        "generated_image = generator(noise, training=False)\n",
        "\n",
        "plt.imshow(generated_image[0, :, :, 0], cmap='gray')"
      ],
      "execution_count": 91,
      "outputs": [
        {
          "output_type": "execute_result",
          "data": {
            "text/plain": [
              "<matplotlib.image.AxesImage at 0x7efdc8c148d0>"
            ]
          },
          "metadata": {
            "tags": []
          },
          "execution_count": 91
        },
        {
          "output_type": "display_data",
          "data": {
            "image/png": "[encoded data removed]",
            "text/plain": [
              "<Figure size 432x288 with 1 Axes>"
            ]
          },
          "metadata": {
            "tags": []
          }
        }
      ]
    },
    {
      "cell_type": "code",
      "metadata": {
        "id": "PKKbonL-1t1b",
        "colab_type": "code",
        "colab": {}
      },
      "source": [
        "def make_discriminator_model():\n",
        "    model = tf.keras.Sequential()\n",
        "    model.add(layers.Conv2D(64, (5, 5), strides=(2, 2), padding='same',\n",
        "                                     input_shape=[28, 28, 1]))\n",
        "    model.add(layers.LeakyReLU())\n",
        "    model.add(layers.Dropout(0.3))\n",
        "\n",
        "    model.add(layers.Conv2D(128, (5, 5), strides=(2, 2), padding='same'))\n",
        "    model.add(layers.LeakyReLU())\n",
        "    model.add(layers.Dropout(0.3))\n",
        "\n",
        "    model.add(layers.Flatten())\n",
        "    model.add(layers.Dense(1))\n",
        "\n",
        "    return model"
      ],
      "execution_count": 0,
      "outputs": []
    },
    {
      "cell_type": "code",
      "metadata": {
        "id": "3xFvCpnJLhf5",
        "colab_type": "code",
        "colab": {
          "base_uri": "https://localhost:8080/",
          "height": 35
        },
        "outputId": "2b2b766e-c03e-4039-d793-1d09a4b10661"
      },
      "source": [
        "discriminator = make_discriminator_model()\n",
        "decision = discriminator(generated_image)\n",
        "print (decision)"
      ],
      "execution_count": 93,
      "outputs": [
        {
          "output_type": "stream",
          "text": [
            "tf.Tensor([[0.00017011]], shape=(1, 1), dtype=float32)\n"
          ],
          "name": "stdout"
        }
      ]
    },
    {
      "cell_type": "markdown",
      "metadata": {
        "id": "_l_2E3mfLjhv",
        "colab_type": "text"
      },
      "source": [
        "## Losses and optimizers"
      ]
    },
    {
      "cell_type": "code",
      "metadata": {
        "id": "u9hTnNvuL4gQ",
        "colab_type": "code",
        "colab": {}
      },
      "source": [
        "# This method returns a helper function to compute cross entropy loss\n",
        "cross_entropy = tf.keras.losses.BinaryCrossentropy(from_logits=True)"
      ],
      "execution_count": 0,
      "outputs": []
    },
    {
      "cell_type": "markdown",
      "metadata": {
        "id": "20A4YAowL89X",
        "colab_type": "text"
      },
      "source": [
        "## Discriminator loss"
      ]
    },
    {
      "cell_type": "code",
      "metadata": {
        "id": "GIUdVBY4MCTg",
        "colab_type": "code",
        "colab": {}
      },
      "source": [
        "def discriminator_loss(real_output, fake_output):\n",
        "    real_loss = cross_entropy(tf.ones_like(real_output), real_output)\n",
        "    fake_loss = cross_entropy(tf.zeros_like(fake_output), fake_output)\n",
        "    total_loss = real_loss + fake_loss\n",
        "    return total_loss"
      ],
      "execution_count": 0,
      "outputs": []
    },
    {
      "cell_type": "markdown",
      "metadata": {
        "id": "Z0_YSwPGMFKh",
        "colab_type": "text"
      },
      "source": [
        "## Generator loss"
      ]
    },
    {
      "cell_type": "code",
      "metadata": {
        "id": "hJVMff7fMJ9R",
        "colab_type": "code",
        "colab": {}
      },
      "source": [
        "def generator_loss(fake_output):\n",
        "    return cross_entropy(tf.ones_like(fake_output), fake_output)"
      ],
      "execution_count": 0,
      "outputs": []
    },
    {
      "cell_type": "markdown",
      "metadata": {
        "id": "uMBqHh0XMqcR",
        "colab_type": "text"
      },
      "source": [
        "## Optimizers"
      ]
    },
    {
      "cell_type": "code",
      "metadata": {
        "id": "nDkVXqCGMMau",
        "colab_type": "code",
        "colab": {}
      },
      "source": [
        "generator_optimizer = tf.keras.optimizers.Adam(1e-4)\n",
        "discriminator_optimizer = tf.keras.optimizers.Adam(1e-4)"
      ],
      "execution_count": 0,
      "outputs": []
    },
    {
      "cell_type": "code",
      "metadata": {
        "id": "Zi-km5gNMPu8",
        "colab_type": "code",
        "colab": {}
      },
      "source": [
        "checkpoint_prefix = os.path.join(checkpoint_dir, \"ckpt\")\n",
        "checkpoint = tf.train.Checkpoint(generator_optimizer=generator_optimizer,\n",
        "                                 discriminator_optimizer=discriminator_optimizer,\n",
        "                                 generator=generator,\n",
        "                                 discriminator=discriminator)"
      ],
      "execution_count": 0,
      "outputs": []
    },
    {
      "cell_type": "markdown",
      "metadata": {
        "id": "eWmTpqx9M0Vd",
        "colab_type": "text"
      },
      "source": [
        "## Training loop"
      ]
    },
    {
      "cell_type": "code",
      "metadata": {
        "id": "JiyzI5TGM4uU",
        "colab_type": "code",
        "colab": {}
      },
      "source": [
        "EPOCHS = 100\n",
        "noise_dim = 100\n",
        "num_examples_to_generate = 16\n",
        "\n",
        "# We will reuse this seed overtime (so it's easier)\n",
        "# to visualize progress in the animated GIF)\n",
        "seed = tf.random.normal([num_examples_to_generate, noise_dim])"
      ],
      "execution_count": 0,
      "outputs": []
    },
    {
      "cell_type": "code",
      "metadata": {
        "id": "uTS1AH7rM7qN",
        "colab_type": "code",
        "colab": {}
      },
      "source": [
        "# Notice the use of `tf.function`\n",
        "# This annotation causes the function to be \"compiled\".\n",
        "@tf.function\n",
        "def train_step(images):\n",
        "    noise = tf.random.normal([BATCH_SIZE, noise_dim])\n",
        "\n",
        "    with tf.GradientTape() as gen_tape, tf.GradientTape() as disc_tape:\n",
        "      generated_images = generator(noise, training=True)\n",
        "\n",
        "      real_output = discriminator(images, training=True)\n",
        "      fake_output = discriminator(generated_images, training=True)\n",
        "\n",
        "      gen_loss = generator_loss(fake_output)\n",
        "      disc_loss = discriminator_loss(real_output, fake_output)\n",
        "\n",
        "    gradients_of_generator = gen_tape.gradient(gen_loss, generator.trainable_variables)\n",
        "    gradients_of_discriminator = disc_tape.gradient(disc_loss, discriminator.trainable_variables)\n",
        "\n",
        "    generator_optimizer.apply_gradients(zip(gradients_of_generator, generator.trainable_variables))\n",
        "    discriminator_optimizer.apply_gradients(zip(gradients_of_discriminator, discriminator.trainable_variables))"
      ],
      "execution_count": 0,
      "outputs": []
    },
    {
      "cell_type": "code",
      "metadata": {
        "id": "e-O_rreDM-FB",
        "colab_type": "code",
        "colab": {}
      },
      "source": [
        "def train(dataset, epochs):\n",
        "  for epoch in range(epochs):\n",
        "    start = time.time()\n",
        "\n",
        "    for image_batch in dataset:\n",
        "      train_step(image_batch)\n",
        "\n",
        "    # Produce images for the GIF as we go\n",
        "    display.clear_output(wait=True)\n",
        "    generate_and_save_images(generator,\n",
        "                             epoch + 1,\n",
        "                             seed)\n",
        "\n",
        "    # Save the model every 15 epochs\n",
        "    if (epoch + 1) % 15 == 0:\n",
        "      checkpoint.save(file_prefix = checkpoint_prefix)\n",
        "\n",
        "    print ('Time for epoch {} is {} sec'.format(epoch + 1, time.time()-start))\n",
        "\n",
        "  # Generate after the final epoch\n",
        "  display.clear_output(wait=True)\n",
        "  generate_and_save_images(generator,\n",
        "                           epochs,\n",
        "                           seed)"
      ],
      "execution_count": 0,
      "outputs": []
    },
    {
      "cell_type": "markdown",
      "metadata": {
        "id": "cJZKY-jlNCkZ",
        "colab_type": "text"
      },
      "source": [
        "## Generate and save images"
      ]
    },
    {
      "cell_type": "code",
      "metadata": {
        "id": "XmCZ5k7tNJ_A",
        "colab_type": "code",
        "colab": {}
      },
      "source": [
        "def generate_and_save_images(model, epoch, test_input):\n",
        "  # Notice `training` is set to False.\n",
        "  # This is so all layers run in inference mode (batchnorm).\n",
        "  predictions = model(test_input, training=False)\n",
        "\n",
        "  fig = plt.figure(figsize=(4,4))\n",
        "\n",
        "  for i in range(predictions.shape[0]):\n",
        "      plt.subplot(4, 4, i+1)\n",
        "      plt.imshow(predictions[i, :, :, 0] * 127.5 + 127.5, cmap='gray')\n",
        "      plt.axis('off')\n",
        "\n",
        "  plt.savefig(os.path.join(data_dir, 'image_at_epoch_{:04d}.png').format(epoch))\n",
        "  plt.show()"
      ],
      "execution_count": 0,
      "outputs": []
    },
    {
      "cell_type": "code",
      "metadata": {
        "id": "Y1Mz-zi0NOHp",
        "colab_type": "code",
        "colab": {
          "base_uri": "https://localhost:8080/",
          "height": 285
        },
        "outputId": "c281e009-5d53-49f3-a77f-40d5a17322f1"
      },
      "source": [
        "%%time\n",
        "train(train_dataset, EPOCHS)"
      ],
      "execution_count": 103,
      "outputs": [
        {
          "output_type": "display_data",
          "data": {
            "image/png": "[encoded data removed]",
            "text/plain": [
              "<Figure size 288x288 with 16 Axes>"
            ]
          },
          "metadata": {
            "tags": []
          }
        },
        {
          "output_type": "stream",
          "text": [
            "CPU times: user 7min 32s, sys: 1min 36s, total: 9min 9s\n",
            "Wall time: 41min 35s\n"
          ],
          "name": "stdout"
        }
      ]
    },
    {
      "cell_type": "code",
      "metadata": {
        "id": "7Cuc_JroOXCr",
        "colab_type": "code",
        "colab": {
          "base_uri": "https://localhost:8080/",
          "height": 35
        },
        "outputId": "a191b75f-10e5-41a1-bf83-3ecc77bf1be5"
      },
      "source": [
        "checkpoint.restore(tf.train.latest_checkpoint(checkpoint_dir))"
      ],
      "execution_count": 104,
      "outputs": [
        {
          "output_type": "execute_result",
          "data": {
            "text/plain": [
              "<tensorflow.python.training.tracking.util.CheckpointLoadStatus at 0x7efdc7d789e8>"
            ]
          },
          "metadata": {
            "tags": []
          },
          "execution_count": 104
        }
      ]
    },
    {
      "cell_type": "markdown",
      "metadata": {
        "id": "dmJkMlVENQ-8",
        "colab_type": "text"
      },
      "source": [
        "## Create a GIF"
      ]
    },
    {
      "cell_type": "code",
      "metadata": {
        "id": "YlFe7FbLo1KP",
        "colab_type": "code",
        "colab": {
          "base_uri": "https://localhost:8080/",
          "height": 55
        },
        "outputId": "b00672f9-d3f8-4495-89f2-606809dbb064"
      },
      "source": [
        "# ls '/content/drive/My Drive/ml/gan_fashion_mnist/data/image_at_epoch_0100.png'\n",
        "filenames = glob.glob('/content/drive/My Drive/ml/gan_fashion_mnist/data/image*.png')\n",
        "print(filenames)"
      ],
      "execution_count": 120,
      "outputs": [
        {
          "output_type": "stream",
          "text": [
            "['/content/drive/My Drive/ml/gan_fashion_mnist/data/image_at_epoch_0001.png', '/content/drive/My Drive/ml/gan_fashion_mnist/data/image_at_epoch_0002.png', '/content/drive/My Drive/ml/gan_fashion_mnist/data/image_at_epoch_0003.png', '/content/drive/My Drive/ml/gan_fashion_mnist/data/image_at_epoch_0004.png', '/content/drive/My Drive/ml/gan_fashion_mnist/data/image_at_epoch_0005.png', '/content/drive/My Drive/ml/gan_fashion_mnist/data/image_at_epoch_0006.png', '/content/drive/My Drive/ml/gan_fashion_mnist/data/image_at_epoch_0007.png', '/content/drive/My Drive/ml/gan_fashion_mnist/data/image_at_epoch_0008.png', '/content/drive/My Drive/ml/gan_fashion_mnist/data/image_at_epoch_0009.png', '/content/drive/My Drive/ml/gan_fashion_mnist/data/image_at_epoch_0010.png', '/content/drive/My Drive/ml/gan_fashion_mnist/data/image_at_epoch_0011.png', '/content/drive/My Drive/ml/gan_fashion_mnist/data/image_at_epoch_0012.png', '/content/drive/My Drive/ml/gan_fashion_mnist/data/image_at_epoch_0013.png', '/content/drive/My Drive/ml/gan_fashion_mnist/data/image_at_epoch_0014.png', '/content/drive/My Drive/ml/gan_fashion_mnist/data/image_at_epoch_0015.png', '/content/drive/My Drive/ml/gan_fashion_mnist/data/image_at_epoch_0016.png', '/content/drive/My Drive/ml/gan_fashion_mnist/data/image_at_epoch_0017.png', '/content/drive/My Drive/ml/gan_fashion_mnist/data/image_at_epoch_0018.png', '/content/drive/My Drive/ml/gan_fashion_mnist/data/image_at_epoch_0019.png', '/content/drive/My Drive/ml/gan_fashion_mnist/data/image_at_epoch_0020.png', '/content/drive/My Drive/ml/gan_fashion_mnist/data/image_at_epoch_0021.png', '/content/drive/My Drive/ml/gan_fashion_mnist/data/image_at_epoch_0022.png', '/content/drive/My Drive/ml/gan_fashion_mnist/data/image_at_epoch_0023.png', '/content/drive/My Drive/ml/gan_fashion_mnist/data/image_at_epoch_0024.png', '/content/drive/My Drive/ml/gan_fashion_mnist/data/image_at_epoch_0025.png', '/content/drive/My Drive/ml/gan_fashion_mnist/data/image_at_epoch_0026.png', '/content/drive/My Drive/ml/gan_fashion_mnist/data/image_at_epoch_0027.png', '/content/drive/My Drive/ml/gan_fashion_mnist/data/image_at_epoch_0028.png', '/content/drive/My Drive/ml/gan_fashion_mnist/data/image_at_epoch_0029.png', '/content/drive/My Drive/ml/gan_fashion_mnist/data/image_at_epoch_0030.png', '/content/drive/My Drive/ml/gan_fashion_mnist/data/image_at_epoch_0031.png', '/content/drive/My Drive/ml/gan_fashion_mnist/data/image_at_epoch_0032.png', '/content/drive/My Drive/ml/gan_fashion_mnist/data/image_at_epoch_0033.png', '/content/drive/My Drive/ml/gan_fashion_mnist/data/image_at_epoch_0034.png', '/content/drive/My Drive/ml/gan_fashion_mnist/data/image_at_epoch_0035.png', '/content/drive/My Drive/ml/gan_fashion_mnist/data/image_at_epoch_0036.png', '/content/drive/My Drive/ml/gan_fashion_mnist/data/image_at_epoch_0037.png', '/content/drive/My Drive/ml/gan_fashion_mnist/data/image_at_epoch_0038.png', '/content/drive/My Drive/ml/gan_fashion_mnist/data/image_at_epoch_0039.png', '/content/drive/My Drive/ml/gan_fashion_mnist/data/image_at_epoch_0040.png', '/content/drive/My Drive/ml/gan_fashion_mnist/data/image_at_epoch_0041.png', '/content/drive/My Drive/ml/gan_fashion_mnist/data/image_at_epoch_0042.png', '/content/drive/My Drive/ml/gan_fashion_mnist/data/image_at_epoch_0043.png', '/content/drive/My Drive/ml/gan_fashion_mnist/data/image_at_epoch_0044.png', '/content/drive/My Drive/ml/gan_fashion_mnist/data/image_at_epoch_0045.png', '/content/drive/My Drive/ml/gan_fashion_mnist/data/image_at_epoch_0046.png', '/content/drive/My Drive/ml/gan_fashion_mnist/data/image_at_epoch_0047.png', '/content/drive/My Drive/ml/gan_fashion_mnist/data/image_at_epoch_0048.png', '/content/drive/My Drive/ml/gan_fashion_mnist/data/image_at_epoch_0049.png', '/content/drive/My Drive/ml/gan_fashion_mnist/data/image_at_epoch_0050.png', '/content/drive/My Drive/ml/gan_fashion_mnist/data/image_at_epoch_0051.png', '/content/drive/My Drive/ml/gan_fashion_mnist/data/image_at_epoch_0052.png', '/content/drive/My Drive/ml/gan_fashion_mnist/data/image_at_epoch_0053.png', '/content/drive/My Drive/ml/gan_fashion_mnist/data/image_at_epoch_0054.png', '/content/drive/My Drive/ml/gan_fashion_mnist/data/image_at_epoch_0055.png', '/content/drive/My Drive/ml/gan_fashion_mnist/data/image_at_epoch_0056.png', '/content/drive/My Drive/ml/gan_fashion_mnist/data/image_at_epoch_0057.png', '/content/drive/My Drive/ml/gan_fashion_mnist/data/image_at_epoch_0058.png', '/content/drive/My Drive/ml/gan_fashion_mnist/data/image_at_epoch_0059.png', '/content/drive/My Drive/ml/gan_fashion_mnist/data/image_at_epoch_0060.png', '/content/drive/My Drive/ml/gan_fashion_mnist/data/image_at_epoch_0061.png', '/content/drive/My Drive/ml/gan_fashion_mnist/data/image_at_epoch_0062.png', '/content/drive/My Drive/ml/gan_fashion_mnist/data/image_at_epoch_0063.png', '/content/drive/My Drive/ml/gan_fashion_mnist/data/image_at_epoch_0064.png', '/content/drive/My Drive/ml/gan_fashion_mnist/data/image_at_epoch_0065.png', '/content/drive/My Drive/ml/gan_fashion_mnist/data/image_at_epoch_0066.png', '/content/drive/My Drive/ml/gan_fashion_mnist/data/image_at_epoch_0067.png', '/content/drive/My Drive/ml/gan_fashion_mnist/data/image_at_epoch_0068.png', '/content/drive/My Drive/ml/gan_fashion_mnist/data/image_at_epoch_0069.png', '/content/drive/My Drive/ml/gan_fashion_mnist/data/image_at_epoch_0070.png', '/content/drive/My Drive/ml/gan_fashion_mnist/data/image_at_epoch_0071.png', '/content/drive/My Drive/ml/gan_fashion_mnist/data/image_at_epoch_0072.png', '/content/drive/My Drive/ml/gan_fashion_mnist/data/image_at_epoch_0073.png', '/content/drive/My Drive/ml/gan_fashion_mnist/data/image_at_epoch_0074.png', '/content/drive/My Drive/ml/gan_fashion_mnist/data/image_at_epoch_0075.png', '/content/drive/My Drive/ml/gan_fashion_mnist/data/image_at_epoch_0076.png', '/content/drive/My Drive/ml/gan_fashion_mnist/data/image_at_epoch_0077.png', '/content/drive/My Drive/ml/gan_fashion_mnist/data/image_at_epoch_0078.png', '/content/drive/My Drive/ml/gan_fashion_mnist/data/image_at_epoch_0079.png', '/content/drive/My Drive/ml/gan_fashion_mnist/data/image_at_epoch_0080.png', '/content/drive/My Drive/ml/gan_fashion_mnist/data/image_at_epoch_0081.png', '/content/drive/My Drive/ml/gan_fashion_mnist/data/image_at_epoch_0082.png', '/content/drive/My Drive/ml/gan_fashion_mnist/data/image_at_epoch_0083.png', '/content/drive/My Drive/ml/gan_fashion_mnist/data/image_at_epoch_0084.png', '/content/drive/My Drive/ml/gan_fashion_mnist/data/image_at_epoch_0085.png', '/content/drive/My Drive/ml/gan_fashion_mnist/data/image_at_epoch_0086.png', '/content/drive/My Drive/ml/gan_fashion_mnist/data/image_at_epoch_0087.png', '/content/drive/My Drive/ml/gan_fashion_mnist/data/image_at_epoch_0088.png', '/content/drive/My Drive/ml/gan_fashion_mnist/data/image_at_epoch_0089.png', '/content/drive/My Drive/ml/gan_fashion_mnist/data/image_at_epoch_0090.png', '/content/drive/My Drive/ml/gan_fashion_mnist/data/image_at_epoch_0091.png', '/content/drive/My Drive/ml/gan_fashion_mnist/data/image_at_epoch_0092.png', '/content/drive/My Drive/ml/gan_fashion_mnist/data/image_at_epoch_0093.png', '/content/drive/My Drive/ml/gan_fashion_mnist/data/image_at_epoch_0094.png', '/content/drive/My Drive/ml/gan_fashion_mnist/data/image_at_epoch_0095.png', '/content/drive/My Drive/ml/gan_fashion_mnist/data/image_at_epoch_0096.png', '/content/drive/My Drive/ml/gan_fashion_mnist/data/image_at_epoch_0097.png', '/content/drive/My Drive/ml/gan_fashion_mnist/data/image_at_epoch_0098.png', '/content/drive/My Drive/ml/gan_fashion_mnist/data/image_at_epoch_0099.png', '/content/drive/My Drive/ml/gan_fashion_mnist/data/image_at_epoch_0100.png']\n"
          ],
          "name": "stdout"
        }
      ]
    },
    {
      "cell_type": "code",
      "metadata": {
        "id": "bvF2B5VyUVTQ",
        "colab_type": "code",
        "colab": {
          "base_uri": "https://localhost:8080/",
          "height": 305
        },
        "outputId": "6352effb-7fcb-4c8b-9eea-61acb3d03848"
      },
      "source": [
        "# Display a single image using the epoch number\n",
        "def display_image(epoch_no):\n",
        "  return PIL.Image.open(os.path.join(data_dir, 'image_at_epoch_{:04d}.png').format(epoch_no))\n",
        "\n",
        "display_image(EPOCHS)"
      ],
      "execution_count": 116,
      "outputs": [
        {
          "output_type": "execute_result",
          "data": {
            "image/png": "[encoded data removed]",
            "text/plain": [
              "<PIL.PngImagePlugin.PngImageFile image mode=RGBA size=288x288 at 0x7EFDC86D9470>"
            ]
          },
          "metadata": {
            "tags": []
          },
          "execution_count": 116
        }
      ]
    },
    {
      "cell_type": "code",
      "metadata": {
        "id": "uU8b4kB-oLg3",
        "colab_type": "code",
        "colab": {
          "base_uri": "https://localhost:8080/",
          "height": 55
        },
        "outputId": "aa89efb4-7fe4-4523-b6f8-c694dac69c10"
      },
      "source": [
        "\n",
        "anim_file = os.path.join(data_dir, 'dcgan.gif')\n",
        "\n",
        "with imageio.get_writer(anim_file, mode='I') as writer:\n",
        "  filenames = glob.glob(os.path.join(data_dir,'image*.png'))\n",
        "  filenames = sorted(filenames)\n",
        "  print (filenames)\n",
        "  last = -1\n",
        "  for i,filename in enumerate(filenames):\n",
        "    frame = 2*(i**0.5)\n",
        "    if round(frame) > round(last):\n",
        "      last = frame\n",
        "    else:\n",
        "      continue\n",
        "    image = imageio.imread(filename)\n",
        "    writer.append_data(image)\n",
        "  image = imageio.imread(filename)\n",
        "  writer.append_data(image)\n",
        "\n",
        "import IPython\n",
        "if IPython.version_info > (6,2,0,''):\n",
        "  display.Image(filename=anim_file)"
      ],
      "execution_count": 121,
      "outputs": [
        {
          "output_type": "stream",
          "text": [
            "['/content/drive/My Drive/ml/gan_fashion_mnist/data/image_at_epoch_0001.png', '/content/drive/My Drive/ml/gan_fashion_mnist/data/image_at_epoch_0002.png', '/content/drive/My Drive/ml/gan_fashion_mnist/data/image_at_epoch_0003.png', '/content/drive/My Drive/ml/gan_fashion_mnist/data/image_at_epoch_0004.png', '/content/drive/My Drive/ml/gan_fashion_mnist/data/image_at_epoch_0005.png', '/content/drive/My Drive/ml/gan_fashion_mnist/data/image_at_epoch_0006.png', '/content/drive/My Drive/ml/gan_fashion_mnist/data/image_at_epoch_0007.png', '/content/drive/My Drive/ml/gan_fashion_mnist/data/image_at_epoch_0008.png', '/content/drive/My Drive/ml/gan_fashion_mnist/data/image_at_epoch_0009.png', '/content/drive/My Drive/ml/gan_fashion_mnist/data/image_at_epoch_0010.png', '/content/drive/My Drive/ml/gan_fashion_mnist/data/image_at_epoch_0011.png', '/content/drive/My Drive/ml/gan_fashion_mnist/data/image_at_epoch_0012.png', '/content/drive/My Drive/ml/gan_fashion_mnist/data/image_at_epoch_0013.png', '/content/drive/My Drive/ml/gan_fashion_mnist/data/image_at_epoch_0014.png', '/content/drive/My Drive/ml/gan_fashion_mnist/data/image_at_epoch_0015.png', '/content/drive/My Drive/ml/gan_fashion_mnist/data/image_at_epoch_0016.png', '/content/drive/My Drive/ml/gan_fashion_mnist/data/image_at_epoch_0017.png', '/content/drive/My Drive/ml/gan_fashion_mnist/data/image_at_epoch_0018.png', '/content/drive/My Drive/ml/gan_fashion_mnist/data/image_at_epoch_0019.png', '/content/drive/My Drive/ml/gan_fashion_mnist/data/image_at_epoch_0020.png', '/content/drive/My Drive/ml/gan_fashion_mnist/data/image_at_epoch_0021.png', '/content/drive/My Drive/ml/gan_fashion_mnist/data/image_at_epoch_0022.png', '/content/drive/My Drive/ml/gan_fashion_mnist/data/image_at_epoch_0023.png', '/content/drive/My Drive/ml/gan_fashion_mnist/data/image_at_epoch_0024.png', '/content/drive/My Drive/ml/gan_fashion_mnist/data/image_at_epoch_0025.png', '/content/drive/My Drive/ml/gan_fashion_mnist/data/image_at_epoch_0026.png', '/content/drive/My Drive/ml/gan_fashion_mnist/data/image_at_epoch_0027.png', '/content/drive/My Drive/ml/gan_fashion_mnist/data/image_at_epoch_0028.png', '/content/drive/My Drive/ml/gan_fashion_mnist/data/image_at_epoch_0029.png', '/content/drive/My Drive/ml/gan_fashion_mnist/data/image_at_epoch_0030.png', '/content/drive/My Drive/ml/gan_fashion_mnist/data/image_at_epoch_0031.png', '/content/drive/My Drive/ml/gan_fashion_mnist/data/image_at_epoch_0032.png', '/content/drive/My Drive/ml/gan_fashion_mnist/data/image_at_epoch_0033.png', '/content/drive/My Drive/ml/gan_fashion_mnist/data/image_at_epoch_0034.png', '/content/drive/My Drive/ml/gan_fashion_mnist/data/image_at_epoch_0035.png', '/content/drive/My Drive/ml/gan_fashion_mnist/data/image_at_epoch_0036.png', '/content/drive/My Drive/ml/gan_fashion_mnist/data/image_at_epoch_0037.png', '/content/drive/My Drive/ml/gan_fashion_mnist/data/image_at_epoch_0038.png', '/content/drive/My Drive/ml/gan_fashion_mnist/data/image_at_epoch_0039.png', '/content/drive/My Drive/ml/gan_fashion_mnist/data/image_at_epoch_0040.png', '/content/drive/My Drive/ml/gan_fashion_mnist/data/image_at_epoch_0041.png', '/content/drive/My Drive/ml/gan_fashion_mnist/data/image_at_epoch_0042.png', '/content/drive/My Drive/ml/gan_fashion_mnist/data/image_at_epoch_0043.png', '/content/drive/My Drive/ml/gan_fashion_mnist/data/image_at_epoch_0044.png', '/content/drive/My Drive/ml/gan_fashion_mnist/data/image_at_epoch_0045.png', '/content/drive/My Drive/ml/gan_fashion_mnist/data/image_at_epoch_0046.png', '/content/drive/My Drive/ml/gan_fashion_mnist/data/image_at_epoch_0047.png', '/content/drive/My Drive/ml/gan_fashion_mnist/data/image_at_epoch_0048.png', '/content/drive/My Drive/ml/gan_fashion_mnist/data/image_at_epoch_0049.png', '/content/drive/My Drive/ml/gan_fashion_mnist/data/image_at_epoch_0050.png', '/content/drive/My Drive/ml/gan_fashion_mnist/data/image_at_epoch_0051.png', '/content/drive/My Drive/ml/gan_fashion_mnist/data/image_at_epoch_0052.png', '/content/drive/My Drive/ml/gan_fashion_mnist/data/image_at_epoch_0053.png', '/content/drive/My Drive/ml/gan_fashion_mnist/data/image_at_epoch_0054.png', '/content/drive/My Drive/ml/gan_fashion_mnist/data/image_at_epoch_0055.png', '/content/drive/My Drive/ml/gan_fashion_mnist/data/image_at_epoch_0056.png', '/content/drive/My Drive/ml/gan_fashion_mnist/data/image_at_epoch_0057.png', '/content/drive/My Drive/ml/gan_fashion_mnist/data/image_at_epoch_0058.png', '/content/drive/My Drive/ml/gan_fashion_mnist/data/image_at_epoch_0059.png', '/content/drive/My Drive/ml/gan_fashion_mnist/data/image_at_epoch_0060.png', '/content/drive/My Drive/ml/gan_fashion_mnist/data/image_at_epoch_0061.png', '/content/drive/My Drive/ml/gan_fashion_mnist/data/image_at_epoch_0062.png', '/content/drive/My Drive/ml/gan_fashion_mnist/data/image_at_epoch_0063.png', '/content/drive/My Drive/ml/gan_fashion_mnist/data/image_at_epoch_0064.png', '/content/drive/My Drive/ml/gan_fashion_mnist/data/image_at_epoch_0065.png', '/content/drive/My Drive/ml/gan_fashion_mnist/data/image_at_epoch_0066.png', '/content/drive/My Drive/ml/gan_fashion_mnist/data/image_at_epoch_0067.png', '/content/drive/My Drive/ml/gan_fashion_mnist/data/image_at_epoch_0068.png', '/content/drive/My Drive/ml/gan_fashion_mnist/data/image_at_epoch_0069.png', '/content/drive/My Drive/ml/gan_fashion_mnist/data/image_at_epoch_0070.png', '/content/drive/My Drive/ml/gan_fashion_mnist/data/image_at_epoch_0071.png', '/content/drive/My Drive/ml/gan_fashion_mnist/data/image_at_epoch_0072.png', '/content/drive/My Drive/ml/gan_fashion_mnist/data/image_at_epoch_0073.png', '/content/drive/My Drive/ml/gan_fashion_mnist/data/image_at_epoch_0074.png', '/content/drive/My Drive/ml/gan_fashion_mnist/data/image_at_epoch_0075.png', '/content/drive/My Drive/ml/gan_fashion_mnist/data/image_at_epoch_0076.png', '/content/drive/My Drive/ml/gan_fashion_mnist/data/image_at_epoch_0077.png', '/content/drive/My Drive/ml/gan_fashion_mnist/data/image_at_epoch_0078.png', '/content/drive/My Drive/ml/gan_fashion_mnist/data/image_at_epoch_0079.png', '/content/drive/My Drive/ml/gan_fashion_mnist/data/image_at_epoch_0080.png', '/content/drive/My Drive/ml/gan_fashion_mnist/data/image_at_epoch_0081.png', '/content/drive/My Drive/ml/gan_fashion_mnist/data/image_at_epoch_0082.png', '/content/drive/My Drive/ml/gan_fashion_mnist/data/image_at_epoch_0083.png', '/content/drive/My Drive/ml/gan_fashion_mnist/data/image_at_epoch_0084.png', '/content/drive/My Drive/ml/gan_fashion_mnist/data/image_at_epoch_0085.png', '/content/drive/My Drive/ml/gan_fashion_mnist/data/image_at_epoch_0086.png', '/content/drive/My Drive/ml/gan_fashion_mnist/data/image_at_epoch_0087.png', '/content/drive/My Drive/ml/gan_fashion_mnist/data/image_at_epoch_0088.png', '/content/drive/My Drive/ml/gan_fashion_mnist/data/image_at_epoch_0089.png', '/content/drive/My Drive/ml/gan_fashion_mnist/data/image_at_epoch_0090.png', '/content/drive/My Drive/ml/gan_fashion_mnist/data/image_at_epoch_0091.png', '/content/drive/My Drive/ml/gan_fashion_mnist/data/image_at_epoch_0092.png', '/content/drive/My Drive/ml/gan_fashion_mnist/data/image_at_epoch_0093.png', '/content/drive/My Drive/ml/gan_fashion_mnist/data/image_at_epoch_0094.png', '/content/drive/My Drive/ml/gan_fashion_mnist/data/image_at_epoch_0095.png', '/content/drive/My Drive/ml/gan_fashion_mnist/data/image_at_epoch_0096.png', '/content/drive/My Drive/ml/gan_fashion_mnist/data/image_at_epoch_0097.png', '/content/drive/My Drive/ml/gan_fashion_mnist/data/image_at_epoch_0098.png', '/content/drive/My Drive/ml/gan_fashion_mnist/data/image_at_epoch_0099.png', '/content/drive/My Drive/ml/gan_fashion_mnist/data/image_at_epoch_0100.png']\n"
          ],
          "name": "stdout"
        }
      ]
    },
    {
      "cell_type": "code",
      "metadata": {
        "id": "62EdYOVAWWV-",
        "colab_type": "code",
        "colab": {}
      },
      "source": [
        "try:\n",
        "  from google.colab import files\n",
        "except ImportError:\n",
        "   pass\n",
        "else:\n",
        "  files.download(anim_file)"
      ],
      "execution_count": 0,
      "outputs": []
    },
    {
      "cell_type": "code",
      "metadata": {
        "id": "TTpChN0EbgY6",
        "colab_type": "code",
        "colab": {}
      },
      "source": [
        ""
      ],
      "execution_count": 0,
      "outputs": []
    }
  ]
}